{
 "cells": [
  {
   "cell_type": "markdown",
   "metadata": {},
   "source": [
    "\n",
    "Ejercicio: Uso de funciones en Python"
   ]
  },
  {
   "cell_type": "markdown",
   "metadata": {},
   "source": [
    "Ejercicio 1: Trabajar con argumentos en funciones"
   ]
  },
  {
   "cell_type": "code",
   "execution_count": 13,
   "metadata": {},
   "outputs": [],
   "source": [
    "# Función para leer 3 tanques de combustible y muestre el promedio\n",
    "def informeCombustible(Tanque1, Tanque2, Tanque3):\n",
    "    Promedio = (int(Tanque1) + int(Tanque2) + int(Tanque3)) / 3\n",
    "    return Promedio"
   ]
  },
  {
   "cell_type": "code",
   "execution_count": 14,
   "metadata": {},
   "outputs": [
    {
     "data": {
      "text/plain": [
       "2.0"
      ]
     },
     "execution_count": 14,
     "metadata": {},
     "output_type": "execute_result"
    }
   ],
   "source": [
    "informeCombustible(1,2,3)"
   ]
  },
  {
   "cell_type": "code",
   "execution_count": 16,
   "metadata": {},
   "outputs": [
    {
     "name": "stdout",
     "output_type": "stream",
     "text": [
      "2.0\n"
     ]
    }
   ],
   "source": [
    "# Llamamos a la función que genera el reporte print(funcion(tanque1, tanque2, tanque3))\n",
    "print(informeCombustible(1,2,3))"
   ]
  },
  {
   "cell_type": "code",
   "execution_count": 15,
   "metadata": {},
   "outputs": [],
   "source": [
    "# Función promedio \n",
    "def promedio(*valores):\n",
    "    total = sum(valores)\n",
    "    prom = total / len(valores)\n",
    "    return prom"
   ]
  },
  {
   "cell_type": "code",
   "execution_count": 16,
   "metadata": {},
   "outputs": [
    {
     "data": {
      "text/plain": [
       "2.0"
      ]
     },
     "execution_count": 16,
     "metadata": {},
     "output_type": "execute_result"
    }
   ],
   "source": [
    "#Prueba\n",
    "promedio(1,2,3)"
   ]
  },
  {
   "cell_type": "code",
   "execution_count": 17,
   "metadata": {},
   "outputs": [],
   "source": [
    "# Actualiza la función\n",
    "def informe(Tanque1,Tanque2,Tanque3):\n",
    "    return f\"\"\"promedio total: {promedio([Tanque1,Tanque2,Tanque3])}%\n",
    "    \"\"\""
   ]
  },
  {
   "cell_type": "code",
   "execution_count": 18,
   "metadata": {},
   "outputs": [
    {
     "ename": "TypeError",
     "evalue": "unsupported operand type(s) for +: 'int' and 'list'",
     "output_type": "error",
     "traceback": [
      "\u001b[1;31m---------------------------------------------------------------------------\u001b[0m",
      "\u001b[1;31mTypeError\u001b[0m                                 Traceback (most recent call last)",
      "\u001b[1;32mc:\\Users\\karri\\Desktop\\Launch X\\Kata Módulo 9.ipynb Cell 9'\u001b[0m in \u001b[0;36m<module>\u001b[1;34m\u001b[0m\n\u001b[1;32m----> <a href='vscode-notebook-cell:/c%3A/Users/karri/Desktop/Launch%20X/Kata%20M%C3%B3dulo%209.ipynb#ch0000008?line=0'>1</a>\u001b[0m \u001b[39mprint\u001b[39m(informe(\u001b[39m1\u001b[39;49m,\u001b[39m2\u001b[39;49m,\u001b[39m3\u001b[39;49m))\n",
      "\u001b[1;32mc:\\Users\\karri\\Desktop\\Launch X\\Kata Módulo 9.ipynb Cell 8'\u001b[0m in \u001b[0;36minforme\u001b[1;34m(Tanque1, Tanque2, Tanque3)\u001b[0m\n\u001b[0;32m      <a href='vscode-notebook-cell:/c%3A/Users/karri/Desktop/Launch%20X/Kata%20M%C3%B3dulo%209.ipynb#ch0000007?line=1'>2</a>\u001b[0m \u001b[39mdef\u001b[39;00m \u001b[39minforme\u001b[39m(Tanque1,Tanque2,Tanque3):\n\u001b[1;32m----> <a href='vscode-notebook-cell:/c%3A/Users/karri/Desktop/Launch%20X/Kata%20M%C3%B3dulo%209.ipynb#ch0000007?line=2'>3</a>\u001b[0m     \u001b[39mreturn\u001b[39;00m \u001b[39mf\u001b[39m\u001b[39m\"\"\"\u001b[39m\u001b[39mpromedio total: \u001b[39m\u001b[39m{\u001b[39;00mpromedio([Tanque1,Tanque2,Tanque3])\u001b[39m}\u001b[39;00m\u001b[39m%\u001b[39m\n\u001b[0;32m      <a href='vscode-notebook-cell:/c%3A/Users/karri/Desktop/Launch%20X/Kata%20M%C3%B3dulo%209.ipynb#ch0000007?line=3'>4</a>\u001b[0m \u001b[39m    \u001b[39m\u001b[39m\"\"\"\u001b[39m\n",
      "\u001b[1;32mc:\\Users\\karri\\Desktop\\Launch X\\Kata Módulo 9.ipynb Cell 6'\u001b[0m in \u001b[0;36mpromedio\u001b[1;34m(*valores)\u001b[0m\n\u001b[0;32m      <a href='vscode-notebook-cell:/c%3A/Users/karri/Desktop/Launch%20X/Kata%20M%C3%B3dulo%209.ipynb#ch0000005?line=1'>2</a>\u001b[0m \u001b[39mdef\u001b[39;00m \u001b[39mpromedio\u001b[39m(\u001b[39m*\u001b[39mvalores):\n\u001b[1;32m----> <a href='vscode-notebook-cell:/c%3A/Users/karri/Desktop/Launch%20X/Kata%20M%C3%B3dulo%209.ipynb#ch0000005?line=2'>3</a>\u001b[0m     total \u001b[39m=\u001b[39m \u001b[39msum\u001b[39;49m(valores)\n\u001b[0;32m      <a href='vscode-notebook-cell:/c%3A/Users/karri/Desktop/Launch%20X/Kata%20M%C3%B3dulo%209.ipynb#ch0000005?line=3'>4</a>\u001b[0m     prom \u001b[39m=\u001b[39m total \u001b[39m/\u001b[39m \u001b[39mlen\u001b[39m(valores)\n\u001b[0;32m      <a href='vscode-notebook-cell:/c%3A/Users/karri/Desktop/Launch%20X/Kata%20M%C3%B3dulo%209.ipynb#ch0000005?line=4'>5</a>\u001b[0m     \u001b[39mreturn\u001b[39;00m prom\n",
      "\u001b[1;31mTypeError\u001b[0m: unsupported operand type(s) for +: 'int' and 'list'"
     ]
    }
   ],
   "source": [
    "print(informe(1,2,3))"
   ]
  },
  {
   "cell_type": "code",
   "execution_count": 50,
   "metadata": {},
   "outputs": [
    {
     "ename": "TypeError",
     "evalue": "unsupported operand type(s) for +: 'int' and 'list'",
     "output_type": "error",
     "traceback": [
      "\u001b[1;31m---------------------------------------------------------------------------\u001b[0m",
      "\u001b[1;31mTypeError\u001b[0m                                 Traceback (most recent call last)",
      "\u001b[1;32mc:\\Users\\abald\\Desktop\\Kata Módulo 9.ipynb Cell 10'\u001b[0m in \u001b[0;36m<module>\u001b[1;34m\u001b[0m\n\u001b[0;32m      <a href='vscode-notebook-cell:/c%3A/Users/abald/Desktop/Kata%20M%C3%B3dulo%209.ipynb#ch0000010?line=2'>3</a>\u001b[0m     \u001b[39mreturn\u001b[39;00m \u001b[39mf\u001b[39m\u001b[39m\"\"\"\u001b[39m\u001b[39mFuel Report:\u001b[39m\n\u001b[0;32m      <a href='vscode-notebook-cell:/c%3A/Users/abald/Desktop/Kata%20M%C3%B3dulo%209.ipynb#ch0000010?line=3'>4</a>\u001b[0m \u001b[39m    Total Average: \u001b[39m\u001b[39m{\u001b[39;00mpromedio([main_tank, external_tank, hydrogen_tank])\u001b[39m}\u001b[39;00m\u001b[39m%\u001b[39m\n\u001b[0;32m      <a href='vscode-notebook-cell:/c%3A/Users/abald/Desktop/Kata%20M%C3%B3dulo%209.ipynb#ch0000010?line=4'>5</a>\u001b[0m \u001b[39m    Main tank: \u001b[39m\u001b[39m{\u001b[39;00mmain_tank\u001b[39m}\u001b[39;00m\u001b[39m%\u001b[39m\n\u001b[0;32m      <a href='vscode-notebook-cell:/c%3A/Users/abald/Desktop/Kata%20M%C3%B3dulo%209.ipynb#ch0000010?line=5'>6</a>\u001b[0m \u001b[39m    External tank: \u001b[39m\u001b[39m{\u001b[39;00mexternal_tank\u001b[39m}\u001b[39;00m\u001b[39m%\u001b[39m\n\u001b[0;32m      <a href='vscode-notebook-cell:/c%3A/Users/abald/Desktop/Kata%20M%C3%B3dulo%209.ipynb#ch0000010?line=6'>7</a>\u001b[0m \u001b[39m    Hydrogen tank: \u001b[39m\u001b[39m{\u001b[39;00mhydrogen_tank\u001b[39m}\u001b[39;00m\u001b[39m% \u001b[39m\n\u001b[0;32m      <a href='vscode-notebook-cell:/c%3A/Users/abald/Desktop/Kata%20M%C3%B3dulo%209.ipynb#ch0000010?line=7'>8</a>\u001b[0m \u001b[39m    \u001b[39m\u001b[39m\"\"\"\u001b[39m\n\u001b[0;32m     <a href='vscode-notebook-cell:/c%3A/Users/abald/Desktop/Kata%20M%C3%B3dulo%209.ipynb#ch0000010?line=9'>10</a>\u001b[0m \u001b[39m# Call the updated function again with different values\u001b[39;00m\n\u001b[1;32m---> <a href='vscode-notebook-cell:/c%3A/Users/abald/Desktop/Kata%20M%C3%B3dulo%209.ipynb#ch0000010?line=10'>11</a>\u001b[0m \u001b[39mprint\u001b[39m(generate_report(\u001b[39m88\u001b[39;49m, \u001b[39m76\u001b[39;49m, \u001b[39m70\u001b[39;49m))\n",
      "\u001b[1;32mc:\\Users\\abald\\Desktop\\Kata Módulo 9.ipynb Cell 10'\u001b[0m in \u001b[0;36mgenerate_report\u001b[1;34m(main_tank, external_tank, hydrogen_tank)\u001b[0m\n\u001b[0;32m      <a href='vscode-notebook-cell:/c%3A/Users/abald/Desktop/Kata%20M%C3%B3dulo%209.ipynb#ch0000010?line=1'>2</a>\u001b[0m \u001b[39mdef\u001b[39;00m \u001b[39mgenerate_report\u001b[39m(main_tank, external_tank, hydrogen_tank):\n\u001b[0;32m      <a href='vscode-notebook-cell:/c%3A/Users/abald/Desktop/Kata%20M%C3%B3dulo%209.ipynb#ch0000010?line=2'>3</a>\u001b[0m     \u001b[39mreturn\u001b[39;00m \u001b[39mf\u001b[39m\u001b[39m\"\"\"\u001b[39m\u001b[39mFuel Report:\u001b[39m\n\u001b[1;32m----> <a href='vscode-notebook-cell:/c%3A/Users/abald/Desktop/Kata%20M%C3%B3dulo%209.ipynb#ch0000010?line=3'>4</a>\u001b[0m \u001b[39m    Total Average: \u001b[39m\u001b[39m{\u001b[39;00mpromedio([main_tank, external_tank, hydrogen_tank])\u001b[39m}\u001b[39;00m\u001b[39m%\u001b[39m\n\u001b[0;32m      <a href='vscode-notebook-cell:/c%3A/Users/abald/Desktop/Kata%20M%C3%B3dulo%209.ipynb#ch0000010?line=4'>5</a>\u001b[0m \u001b[39m    Main tank: \u001b[39m\u001b[39m{\u001b[39;00mmain_tank\u001b[39m}\u001b[39;00m\u001b[39m%\u001b[39m\n\u001b[0;32m      <a href='vscode-notebook-cell:/c%3A/Users/abald/Desktop/Kata%20M%C3%B3dulo%209.ipynb#ch0000010?line=5'>6</a>\u001b[0m \u001b[39m    External tank: \u001b[39m\u001b[39m{\u001b[39;00mexternal_tank\u001b[39m}\u001b[39;00m\u001b[39m%\u001b[39m\n\u001b[0;32m      <a href='vscode-notebook-cell:/c%3A/Users/abald/Desktop/Kata%20M%C3%B3dulo%209.ipynb#ch0000010?line=6'>7</a>\u001b[0m \u001b[39m    Hydrogen tank: \u001b[39m\u001b[39m{\u001b[39;00mhydrogen_tank\u001b[39m}\u001b[39;00m\u001b[39m% \u001b[39m\n\u001b[0;32m      <a href='vscode-notebook-cell:/c%3A/Users/abald/Desktop/Kata%20M%C3%B3dulo%209.ipynb#ch0000010?line=7'>8</a>\u001b[0m \u001b[39m    \u001b[39m\u001b[39m\"\"\"\u001b[39m\n",
      "\u001b[1;32mc:\\Users\\abald\\Desktop\\Kata Módulo 9.ipynb Cell 6'\u001b[0m in \u001b[0;36mpromedio\u001b[1;34m(*valores)\u001b[0m\n\u001b[0;32m      <a href='vscode-notebook-cell:/c%3A/Users/abald/Desktop/Kata%20M%C3%B3dulo%209.ipynb#ch0000006?line=1'>2</a>\u001b[0m \u001b[39mdef\u001b[39;00m \u001b[39mpromedio\u001b[39m(\u001b[39m*\u001b[39mvalores):\n\u001b[1;32m----> <a href='vscode-notebook-cell:/c%3A/Users/abald/Desktop/Kata%20M%C3%B3dulo%209.ipynb#ch0000006?line=2'>3</a>\u001b[0m     total \u001b[39m=\u001b[39m \u001b[39msum\u001b[39;49m(valores)\n\u001b[0;32m      <a href='vscode-notebook-cell:/c%3A/Users/abald/Desktop/Kata%20M%C3%B3dulo%209.ipynb#ch0000006?line=3'>4</a>\u001b[0m     prom \u001b[39m=\u001b[39m total \u001b[39m/\u001b[39m \u001b[39mlen\u001b[39m(valores)\n\u001b[0;32m      <a href='vscode-notebook-cell:/c%3A/Users/abald/Desktop/Kata%20M%C3%B3dulo%209.ipynb#ch0000006?line=4'>5</a>\u001b[0m     \u001b[39mreturn\u001b[39;00m prom\n",
      "\u001b[1;31mTypeError\u001b[0m: unsupported operand type(s) for +: 'int' and 'list'"
     ]
    }
   ],
   "source": [
    "\n",
    "# Actualiza la función\n",
    "def generate_report(main_tank, external_tank, hydrogen_tank):\n",
    "    return f\"\"\"Fuel Report:\n",
    "    Total Average: {promedio([main_tank, external_tank, hydrogen_tank])}%\n",
    "    Main tank: {main_tank}%\n",
    "    External tank: {external_tank}%\n",
    "    Hydrogen tank: {hydrogen_tank}% \n",
    "    \"\"\"\n",
    "\n",
    "# Call the updated function again with different values\n",
    "print(generate_report(88, 76, 70))\n",
    "\n"
   ]
  },
  {
   "cell_type": "markdown",
   "metadata": {},
   "source": [
    "Ejercicio 2: Trabajo con argumentos de palabra clave"
   ]
  },
  {
   "cell_type": "markdown",
   "metadata": {},
   "source": [
    "Ejercicio : Trabajar con argumentos de palabras clave en funciones"
   ]
  },
  {
   "cell_type": "code",
   "execution_count": 3,
   "metadata": {},
   "outputs": [
    {
     "name": "stdout",
     "output_type": "stream",
     "text": [
      "\n",
      "    Mission to Moon\n",
      "    Total travel time: 65 minutes\n",
      "    Total fuel left: 500000 gallons\n",
      "    \n"
     ]
    }
   ],
   "source": [
    "# Función con un informe preciso de la misión. Considera hora de prelanzamiento, tiempo de vuelo, destino, tanque externo y tanque interno\n",
    "def informePreciso(preLanzamientoo,tiempoVuelo,destino,tanqueExterno,tanqueInterno):\n",
    "    return f\"\"\"\n",
    "    Mission to {destino}\n",
    "    Total travel time: {preLanzamientoo + tiempoVuelo} minutes\n",
    "    Total fuel left: {tanqueExterno + tanqueInterno} gallons\n",
    "    \"\"\"\n",
    "\n",
    "print(informePreciso(14, 51, \"Moon\", 200000, 300000))\n"
   ]
  },
  {
   "cell_type": "code",
   "execution_count": 11,
   "metadata": {},
   "outputs": [
    {
     "name": "stdout",
     "output_type": "stream",
     "text": [
      "\n",
      "    Mission to Moon\n",
      "    Total travel time: 76 minutes\n",
      "    Total fuel left: 500000 gallons\n",
      "    \n"
     ]
    }
   ],
   "source": [
    "# Escribe tu nueva función de reporte considerando lo anterior\n",
    "def informePreciso(destino, *minutes, **fuel_reservoirs):\n",
    "    return f\"\"\"\n",
    "    Mission to {destino}\n",
    "    Total travel time: {sum(minutes)} minutes\n",
    "    Total fuel left: {sum(fuel_reservoirs.values())} gallons\n",
    "    \"\"\"\n",
    "\n",
    "print(informePreciso(\"Moon\", 10, 15, 51, main=300000, external=200000))"
   ]
  },
  {
   "cell_type": "code",
   "execution_count": 19,
   "metadata": {},
   "outputs": [
    {
     "name": "stdout",
     "output_type": "stream",
     "text": [
      "\n",
      "    Mission to Moon\n",
      "    Total travel time: 74 minutes\n",
      "    Total fuel left: 500000\n",
      "    main tank --> 300000 gallons left\n",
      "external tank --> 200000 gallons left\n",
      "\n"
     ]
    }
   ],
   "source": [
    "# Escribe tu nueva función\n",
    "\n",
    "def informePreciso(destino, *minutes, **fuel_reservoirs):\n",
    "    main_report = f\"\"\"\n",
    "    Mission to {destino}\n",
    "    Total travel time: {sum(minutes)} minutes\n",
    "    Total fuel left: {sum(fuel_reservoirs.values())}\n",
    "    \"\"\"\n",
    "    for tank_name, gallons in fuel_reservoirs.items():\n",
    "        main_report += f\"{tank_name} tank --> {gallons} gallons left\\n\"\n",
    "    return main_report\n",
    "\n",
    "print(informePreciso(\"Moon\", 8, 11, 55, main=300000, external=200000))"
   ]
  }
 ],
 "metadata": {
  "interpreter": {
   "hash": "f125498fe0e7223374a9f47d5e3fc09897d027b9c65e7b155dcb5a39d8765460"
  },
  "kernelspec": {
   "display_name": "Python 3.10.2 64-bit (windows store)",
   "language": "python",
   "name": "python3"
  },
  "language_info": {
   "codemirror_mode": {
    "name": "ipython",
    "version": 3
   },
   "file_extension": ".py",
   "mimetype": "text/x-python",
   "name": "python",
   "nbconvert_exporter": "python",
   "pygments_lexer": "ipython3",
   "version": "3.10.2"
  },
  "orig_nbformat": 4
 },
 "nbformat": 4,
 "nbformat_minor": 2
}
