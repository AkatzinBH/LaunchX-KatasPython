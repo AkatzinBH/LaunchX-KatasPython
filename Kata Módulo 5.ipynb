{
 "cells": [
  {
   "cell_type": "markdown",
   "metadata": {},
   "source": [
    "Ejercicio 1"
   ]
  },
  {
   "cell_type": "code",
   "execution_count": 15,
   "metadata": {},
   "outputs": [],
   "source": [
    "# Crear variables para almacenar las dos distancias\n",
    "Tierra = 149597870\n",
    "Jupiter =  778547200"
   ]
  },
  {
   "cell_type": "code",
   "execution_count": 16,
   "metadata": {},
   "outputs": [
    {
     "name": "stdout",
     "output_type": "stream",
     "text": [
      "La distancia entre la Tierra y Jupiter es de:\n",
      "628949330 Km\n",
      "La distancia en Millas es de: 390577533.93 Millas\n"
     ]
    }
   ],
   "source": [
    "# Calcular la distancia entre planetas\n",
    "distanciaPlanetas = abs(Tierra - Jupiter)\n",
    "print(\"La distancia entre la Tierra y Jupiter es de:\")\n",
    "print(str(distanciaPlanetas) + \" Km\")\n",
    "distanciaMillas = distanciaPlanetas * 0.621\n",
    "print(\"La distancia en Millas es de: \" + str(distanciaMillas) + \" Millas\")"
   ]
  },
  {
   "cell_type": "markdown",
   "metadata": {},
   "source": [
    "Ejercicio 2"
   ]
  },
  {
   "cell_type": "code",
   "execution_count": 24,
   "metadata": {},
   "outputs": [
    {
     "name": "stdout",
     "output_type": "stream",
     "text": [
      "La distancia es: 8.0 Km\n",
      "La distancia en Millas es de: 4.968 Millas\n"
     ]
    }
   ],
   "source": [
    "# Almacenar las entradas del usuario\n",
    "#Pista: variable = input(\"¿Cuál es tu nombre?\")\n",
    "distancia1 = input(\"Ingresa la distancia 1 en Km\")\n",
    "distancia2 = input(\"Ingresa la distancia 2 en Km\")\n",
    "distancias= abs(float(distancia1) - float(distancia2))\n",
    "print(\"La distancia es: \" + str(distancias) + \" Km\")\n",
    "distanciaMill = distancias * 0.621\n",
    "print(\"La distancia en Millas es de: \" + str(distanciaMill) + \" Millas\")"
   ]
  }
 ],
 "metadata": {
  "interpreter": {
   "hash": "f125498fe0e7223374a9f47d5e3fc09897d027b9c65e7b155dcb5a39d8765460"
  },
  "kernelspec": {
   "display_name": "Python 3.10.2 64-bit (windows store)",
   "language": "python",
   "name": "python3"
  },
  "language_info": {
   "codemirror_mode": {
    "name": "ipython",
    "version": 3
   },
   "file_extension": ".py",
   "mimetype": "text/x-python",
   "name": "python",
   "nbconvert_exporter": "python",
   "pygments_lexer": "ipython3",
   "version": "3.10.2"
  },
  "orig_nbformat": 4
 },
 "nbformat": 4,
 "nbformat_minor": 2
}
