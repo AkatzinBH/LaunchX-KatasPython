{
 "cells": [
  {
   "cell_type": "markdown",
   "metadata": {},
   "source": [
    "Declaraciones if, else y elif"
   ]
  },
  {
   "cell_type": "markdown",
   "metadata": {},
   "source": [
    "Ejercicio 1"
   ]
  },
  {
   "cell_type": "code",
   "execution_count": 11,
   "metadata": {},
   "outputs": [
    {
     "name": "stdout",
     "output_type": "stream",
     "text": [
      "¡ADVERTENCIA! ASTEROIDE A MÁS DE 25 Km/s \n",
      "Velocidad de ASTEROIDE:\n",
      "49 Km/s\n"
     ]
    }
   ],
   "source": [
    "velocidadAsteroide = 49\n",
    "if velocidadAsteroide > 25:\n",
    "    print(\"¡ADVERTENCIA! ASTEROIDE A MÁS DE 25 Km/s \")\n",
    "    print(\"Velocidad de ASTEROIDE:\")\n",
    "    print(str(velocidadAsteroide) + \" Km/s\")\n",
    "else:\n",
    "    print(\"Velocidad de asteroide es menor a 25 Km/s\")"
   ]
  },
  {
   "cell_type": "markdown",
   "metadata": {},
   "source": [
    "Ejercicio 2"
   ]
  },
  {
   "cell_type": "code",
   "execution_count": 20,
   "metadata": {},
   "outputs": [
    {
     "name": "stdout",
     "output_type": "stream",
     "text": [
      "Velocidad de asteroide es menor a 20 Km/s\n",
      "No se puede ver ningún asteroide\n"
     ]
    }
   ],
   "source": [
    "velocidadAsteroide = 19\n",
    "if velocidadAsteroide > 20:\n",
    "    print(\"¡ADVERTENCIA! ASTEROIDE A MÁS DE 20 Km/s \")\n",
    "    print(\"¡Se puede ver en el cielo!\")\n",
    "    print(\"Velocidad de ASTEROIDE:\")\n",
    "    print(str(velocidadAsteroide) + \" Km/s\")\n",
    "elif velocidadAsteroide == 20:\n",
    "    print(\"¡ADVERTENCIA! ASTEROIDE A MÁS DE 20 Km/s \")\n",
    "    print(\"¡Se puede ver en el cielo!\")\n",
    "    print(\"Velocidad de ASTEROIDE:\")\n",
    "    print(str(velocidadAsteroide) + \" Km/s\")\n",
    "else:\n",
    "    print(\"Velocidad de asteroide es menor a 20 Km/s\")\n",
    "    print(\"No se puede ver ningún asteroide\")"
   ]
  },
  {
   "cell_type": "markdown",
   "metadata": {},
   "source": [
    "Operadores And y OR"
   ]
  },
  {
   "cell_type": "code",
   "execution_count": 24,
   "metadata": {},
   "outputs": [
    {
     "name": "stdout",
     "output_type": "stream",
     "text": [
      "¡ADVERTENCIA! ASTEROIDE A MÁS DE 20 Km/s \n",
      "¡Se puede ver en el cielo!\n",
      "Velocidad de ASTEROIDE:\n",
      "25 Km/s\n"
     ]
    }
   ],
   "source": [
    "dimensionAsteroide = 25\n",
    "velocidadAsteroide = 25\n",
    "\n",
    "if dimensionAsteroide < 25:\n",
    "    print(\"El asteroide se quemará antes de impactar.\")\n",
    "elif dimensionAsteroide > 25 and velocidadAsteroide > 25:\n",
    "    print(\"El Asteroide impactará y causará mucho daño.\")\n",
    "elif velocidadAsteroide >= 20:\n",
    "    print(\"¡ADVERTENCIA! ASTEROIDE A MÁS DE 20 Km/s \")\n",
    "    print(\"¡Se puede ver en el cielo!\")\n",
    "    print(\"Velocidad de ASTEROIDE:\")\n",
    "    print(str(velocidadAsteroide) + \" Km/s\")\n",
    "elif velocidadAsteroide == 20:\n",
    "    print(\"¡ADVERTENCIA! ASTEROIDE A MÁS DE 20 Km/s \")\n",
    "    print(\"¡Se puede ver en el cielo!\")\n",
    "    print(\"Velocidad de ASTEROIDE:\")\n",
    "    print(str(velocidadAsteroide) + \" Km/s\")\n",
    "else:\n",
    "    print(\"Velocidad de asteroide es menor a 20 Km/s\")\n",
    "    print(\"No se puede ver ningún asteroide\")\n",
    " "
   ]
  }
 ],
 "metadata": {
  "interpreter": {
   "hash": "f0b2a0f15dd1d3755afe6dff8506bfce42d751892a6d7b1186320a63bb24d1a6"
  },
  "kernelspec": {
   "display_name": "Python 3.10.2 64-bit",
   "language": "python",
   "name": "python3"
  },
  "language_info": {
   "codemirror_mode": {
    "name": "ipython",
    "version": 3
   },
   "file_extension": ".py",
   "mimetype": "text/x-python",
   "name": "python",
   "nbconvert_exporter": "python",
   "pygments_lexer": "ipython3",
   "version": "3.10.2"
  },
  "orig_nbformat": 4
 },
 "nbformat": 4,
 "nbformat_minor": 2
}
