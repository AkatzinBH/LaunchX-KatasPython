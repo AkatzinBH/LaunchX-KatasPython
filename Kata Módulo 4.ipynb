{
 "cells": [
  {
   "cell_type": "markdown",
   "metadata": {},
   "source": [
    "Ejemplo 1: Transformar Cadenas"
   ]
  },
  {
   "cell_type": "code",
   "execution_count": 1,
   "metadata": {},
   "outputs": [],
   "source": [
    "text = \"\"\"Interesting facts about the Moon. The Moon is Earth's only satellite. There are several interesting facts about the Moon and how it affects life here on Earth. \n",
    "On average, the Moon moves 4cm away from the Earth every year. This yearly drift is not significant enough to cause immediate effects on Earth. The highest daylight temperature of the Moon is 127 C.\"\"\""
   ]
  },
  {
   "cell_type": "code",
   "execution_count": 17,
   "metadata": {},
   "outputs": [
    {
     "name": "stdout",
     "output_type": "stream",
     "text": [
      "['Interesting facts about the Moon', \"The Moon is Earth's only satellite\", 'There are several interesting facts about the Moon and how it affects life here on Earth', '\\nOn average, the Moon moves 4cm away from the Earth every year', 'This yearly drift is not significant enough to cause immediate effects on Earth', 'The highest daylight temperature of the Moon is 127 C.']\n"
     ]
    }
   ],
   "source": [
    "#Divide el Texto\n",
    "textoDividido = text.split(\". \")\n",
    "print(textoDividido)"
   ]
  },
  {
   "cell_type": "code",
   "execution_count": 9,
   "metadata": {},
   "outputs": [],
   "source": [
    "#Palabras Clave\n",
    "palabrasClave = [\"average\",\"temperature\",\"distance\"]"
   ]
  },
  {
   "cell_type": "code",
   "execution_count": 64,
   "metadata": {},
   "outputs": [
    {
     "name": "stdout",
     "output_type": "stream",
     "text": [
      "\n",
      "On average, the Moon moves 4cm away from the Earth every year\n",
      "The highest daylight temperature of the Moon is 127 C.\n"
     ]
    }
   ],
   "source": [
    "for oracion in textoDividido:\n",
    "    for palabra in palabrasClave:\n",
    "        if palabra in oracion:\n",
    "            print(oracion)"
   ]
  },
  {
   "cell_type": "code",
   "execution_count": 15,
   "metadata": {},
   "outputs": [
    {
     "name": "stdout",
     "output_type": "stream",
     "text": [
      "\n",
      "On average, the Moon moves 4cm away from the Earth every year\n",
      "The highest daylight temperature of the Moon is 127 C.\n"
     ]
    }
   ],
   "source": [
    "#Recorrer la cadena\n",
    "\n",
    "for enunciado in textoDividido:\n",
    "    for keyWords in palabrasClave:\n",
    "        if keyWords in enunciado: \n",
    "            print(enunciado)\n",
    "            break"
   ]
  },
  {
   "cell_type": "code",
   "execution_count": 20,
   "metadata": {},
   "outputs": [
    {
     "name": "stdout",
     "output_type": "stream",
     "text": [
      "\n",
      "On average, the Moon moves 4cm away from the Earth every year\n",
      "\n",
      "On average, the Moon moves 4 centimeters away from the Earth every year\n",
      "The highest daylight temperature of the Moon is 127 Celsius.\n",
      "The highest daylight temperature of the Moon is 127 C.\n"
     ]
    }
   ],
   "source": [
    "#Cambiar C a Celsius\n",
    "\n",
    "for enunciado in textoDividido:\n",
    "    for keyWords in palabrasClave:\n",
    "        if keyWords in enunciado: \n",
    "            print(enunciado.replace('C','Celsius'))\n",
    "            break\n"
   ]
  },
  {
   "cell_type": "markdown",
   "metadata": {},
   "source": [
    "Ejercicio 2: Formateando Cadenas"
   ]
  },
  {
   "cell_type": "code",
   "execution_count": 41,
   "metadata": {},
   "outputs": [],
   "source": [
    "# Datos con los que vas a trabajar\n",
    "name = \"Moon\"\n",
    "gravity = 0.00162 # in kms\n",
    "planet = \"Earth\""
   ]
  },
  {
   "cell_type": "code",
   "execution_count": 47,
   "metadata": {},
   "outputs": [
    {
     "data": {
      "text/plain": [
       "'Gravity Facts About Moon'"
      ]
     },
     "execution_count": 47,
     "metadata": {},
     "output_type": "execute_result"
    }
   ],
   "source": [
    "#Creamos el título\n",
    "titulo = f'Gravity facts about {name}'\n",
    "titulo.title()"
   ]
  },
  {
   "cell_type": "code",
   "execution_count": 57,
   "metadata": {},
   "outputs": [
    {
     "name": "stdout",
     "output_type": "stream",
     "text": [
      "--------------------------------------------------------\n",
      "Planet Name: Earth\n",
      "Gravity on Moon: 1.6199999999999999  \n",
      "\n"
     ]
    }
   ],
   "source": [
    "#Creamos la plantilla\n",
    "plantilla = f\"\"\"--------------------------------------------------------\n",
    "Planet Name: {planet}\n",
    "Gravity on {name}: {gravity*1000}  \n",
    "\"\"\"\n",
    "print(plantilla)\n"
   ]
  },
  {
   "cell_type": "code",
   "execution_count": 58,
   "metadata": {},
   "outputs": [
    {
     "name": "stdout",
     "output_type": "stream",
     "text": [
      "Gravity Facts About Moon\n",
      "--------------------------------------------------------\n",
      "Planet Name: Earth\n",
      "Gravity on Moon: 1.6199999999999999  \n",
      "\n",
      "\n"
     ]
    }
   ],
   "source": [
    "#Unión de cadenas\n",
    "Union = f\"\"\"{titulo.title()}\n",
    "{plantilla}\n",
    "\"\"\"\n",
    "print(Union)"
   ]
  },
  {
   "cell_type": "code",
   "execution_count": 63,
   "metadata": {},
   "outputs": [
    {
     "name": "stdout",
     "output_type": "stream",
     "text": [
      "Gravity Facts About Ganímedes\n",
      "--------------------------------------------------------\n",
      "Planet Name: Marte \n",
      "Gravity on Ganímedes: 1.4300000000000002  \n",
      "\n",
      "\n"
     ]
    }
   ],
   "source": [
    "#Datos Muestra\n",
    "planet = 'Marte '\n",
    "gravity  = 0.00143\n",
    "name = 'Ganímedes'\n",
    "\n",
    "#Comprobacion de la Plantilla\n",
    "#Creamos el título\n",
    "titulo = f'Gravity facts about {name}'\n",
    "titulo.title()\n",
    "\n",
    "#Creamos la plantilla\n",
    "plantilla = f\"\"\"--------------------------------------------------------\n",
    "Planet Name: {planet}\n",
    "Gravity on {name}: {gravity*1000}  \n",
    "\"\"\"\n",
    "\n",
    "#Unión de cadenas\n",
    "Union = f\"\"\"{titulo.title()}\n",
    "{plantilla}\n",
    "\"\"\"\n",
    "print(Union)\n"
   ]
  }
 ],
 "metadata": {
  "interpreter": {
   "hash": "0a298b02ce6515f11efccadf5bacf3c72617c64bc672baca991e1df35e554133"
  },
  "kernelspec": {
   "display_name": "Python 3.10.2 64-bit",
   "language": "python",
   "name": "python3"
  },
  "language_info": {
   "codemirror_mode": {
    "name": "ipython",
    "version": 3
   },
   "file_extension": ".py",
   "mimetype": "text/x-python",
   "name": "python",
   "nbconvert_exporter": "python",
   "pygments_lexer": "ipython3",
   "version": "3.10.2"
  },
  "orig_nbformat": 4
 },
 "nbformat": 4,
 "nbformat_minor": 2
}
